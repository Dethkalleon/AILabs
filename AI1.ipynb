{
  "nbformat": 4,
  "nbformat_minor": 0,
  "metadata": {
    "colab": {
      "provenance": [],
      "collapsed_sections": [
        "jw-kwBbGE0xw",
        "3O7ugHqvE7GX",
        "77wmIijyFCYL",
        "hQOEgI-EFFu3"
      ],
      "authorship_tag": "ABX9TyOOQzeBDVLGDQFrzLeTqhEQ",
      "include_colab_link": true
    },
    "kernelspec": {
      "name": "python3",
      "display_name": "Python 3"
    },
    "language_info": {
      "name": "python"
    }
  },
  "cells": [
    {
      "cell_type": "markdown",
      "metadata": {
        "id": "view-in-github",
        "colab_type": "text"
      },
      "source": [
        "<a href=\"https://colab.research.google.com/github/Dethkalleon/AILabs/blob/AILab1/AI1.ipynb\" target=\"_parent\"><img src=\"https://colab.research.google.com/assets/colab-badge.svg\" alt=\"Open In Colab\"/></a>"
      ]
    },
    {
      "cell_type": "markdown",
      "source": [
        "# 1. Базовые типы переменных"
      ],
      "metadata": {
        "id": "jw-kwBbGE0xw"
      }
    },
    {
      "cell_type": "code",
      "execution_count": null,
      "metadata": {
        "id": "KTvJrUNjiEUg"
      },
      "outputs": [],
      "source": [
        "int_variable = 5  # int\n",
        "assert isinstance(int_variable, int)\n",
        "\n",
        "float_variable = 5.2  # float\n",
        "assert isinstance(float_variable, float)\n",
        "\n",
        "string_variable = \"5\"  # string\n",
        "assert isinstance(string_variable, str)\n",
        "\n",
        "bool_variable = True  # bool\n",
        "assert isinstance(bool_variable, bool)"
      ]
    },
    {
      "cell_type": "code",
      "source": [
        "list_variable = [1,2,3]  # list/список, любой тип, менять можно\n",
        "assert isinstance(list_variable, list)\n",
        "\n",
        "tuple_variable = (\"яблочко\", \"бананчик\", \"грушка\")  # tuple/кортеж, неизменяемый\n",
        "assert isinstance(tuple_variable, tuple)\n",
        "\n",
        "set_variable = {\"яблочко\", \"бананчик\", \"грушка\"}  # set/множество, нет повторяющихся элементов\n",
        "assert isinstance(set_variable, set)\n",
        "\n",
        "dict_variable = {\n",
        "  \"Видеокарта\": \"RTX6090\",\n",
        "  \"Процессор\": \"Made in China\",\n",
        "  \"Алгебра\": 1\n",
        "}  # dict/словарь, ключ-значение\n",
        "assert isinstance(dict_variable, dict)"
      ],
      "metadata": {
        "id": "7O7cHHOfi78c"
      },
      "execution_count": null,
      "outputs": []
    },
    {
      "cell_type": "markdown",
      "source": [
        "# 2.1 Различные функции"
      ],
      "metadata": {
        "id": "3O7ugHqvE7GX"
      }
    },
    {
      "cell_type": "code",
      "source": [
        "def difference_of_two_numbers(first, second):\n",
        "    return first-second\n",
        "    pass\n",
        "\n",
        "\n",
        "assert difference_of_two_numbers(2, 1) == 1\n",
        "assert difference_of_two_numbers(4, 1) == 3\n",
        "assert difference_of_two_numbers(10, 0) == 10\n",
        "assert difference_of_two_numbers(-5, -6) == 1"
      ],
      "metadata": {
        "id": "tHIdqbtZjpHZ"
      },
      "execution_count": null,
      "outputs": []
    },
    {
      "cell_type": "code",
      "source": [
        "def condition_function(input_number):\n",
        "    \"\"\"\n",
        "    Если входное число меньше либо равно 0, то умножить его на 2.\n",
        "    В противном случае, если число больше 0, но меньше или равно 10, умножить на 3.\n",
        "    Во всех прочих случаях поделить на 10.\n",
        "    \"\"\"\n",
        "    if input_number <= 0:\n",
        "        return input_number * 2\n",
        "    elif input_number <= 10:\n",
        "        return input_number * 3\n",
        "    else:\n",
        "        return input_number / 10\n",
        "    pass\n",
        "\n",
        "\n",
        "assert condition_function(0) == 0\n",
        "assert condition_function(-1) == -2\n",
        "assert condition_function(1) == 3\n",
        "assert condition_function(10) == 30\n",
        "assert condition_function(11) == 1.1\n",
        "assert condition_function(20) == 2\n"
      ],
      "metadata": {
        "id": "mRke4QbCwSfs"
      },
      "execution_count": null,
      "outputs": []
    },
    {
      "cell_type": "code",
      "source": [
        "def calculator(number_1, operation, number_2):\n",
        "    \"\"\"\n",
        "    Простой оператор, способный выполнять операции +, -, *, /.\n",
        "    На входе первое число, операция в виде строки и второе число.\n",
        "\n",
        "    Пример:\n",
        "    >>> calculator(1, \"+\", 1)\n",
        "    >>> 2\n",
        "    \"\"\"\n",
        "    if operation == \"+\":\n",
        "        return number_1 + number_2\n",
        "    elif operation == \"-\":\n",
        "        return number_1 - number_2\n",
        "    elif operation == \"*\":\n",
        "        return number_1 * number_2\n",
        "    elif operation == \"/\":\n",
        "        if number_2 != 0:  # Проверка на деление на ноль\n",
        "            return number_1 / number_2\n",
        "    pass\n",
        "\n",
        "\n",
        "assert calculator(1, \"+\", 2) == 3\n",
        "assert calculator(3, \"-\", 1) == 2\n",
        "assert calculator(4, \"*\", 3) == 12\n",
        "assert calculator(2, \"/\", 2) == 1"
      ],
      "metadata": {
        "id": "-HOD64HUwi_H"
      },
      "execution_count": null,
      "outputs": []
    },
    {
      "cell_type": "code",
      "source": [
        "def number_of_unique_elements(input_list):\n",
        "    \"\"\"\n",
        "    Считает количество уникальных элементов в листе.\n",
        "    \"\"\"\n",
        "    return len(set(input_list))\n",
        "    pass\n",
        "\n",
        "\n",
        "assert number_of_unique_elements([1, 2, 3]) == 3\n",
        "assert number_of_unique_elements([1] * 93) == 1\n",
        "assert number_of_unique_elements(list(range(1000))) == 1000"
      ],
      "metadata": {
        "id": "SjFwf3d98se3"
      },
      "execution_count": null,
      "outputs": []
    },
    {
      "cell_type": "code",
      "source": [
        "def counter(input_list):\n",
        "    \"\"\"\n",
        "    Считает количество вхождений каждого из элементов листа.\n",
        "    Возвращает словарь вида {число: количество вхождений}\n",
        "\n",
        "    Замечание (!): встроенным в collections Counter'ом пользоваться нельзя\n",
        "\n",
        "    Например:\n",
        "    counter([1, 1, 2, 3]) вернет {1: 2, 2: 1, 3: 1}\n",
        "    \"\"\"\n",
        "    counts = {}\n",
        "    for item in input_list:\n",
        "        if item in counts:\n",
        "            counts[item] += 1\n",
        "        else:\n",
        "            counts[item] = 1\n",
        "    return counts\n",
        "\n",
        "assert counter([1, 1, 1, 2, 3]) == {1: 3, 2: 1, 3: 1}\n",
        "assert counter([1] * 1000) == {1: 1000}\n",
        "assert counter([1, 3, 5] * 100) == {1: 100, 3: 100, 5: 100}\n"
      ],
      "metadata": {
        "id": "kjw6lF9C84QH"
      },
      "execution_count": null,
      "outputs": []
    },
    {
      "cell_type": "code",
      "source": [
        "def multiply_nums(input_string):\n",
        "    \"\"\"\n",
        "    Перемножить числа, переданные в строке, перечисленные через запятую.\n",
        "\n",
        "    hint: можно использовать метод .split()\n",
        "    \"\"\"\n",
        "    # Разделяем строку по запятой и преобразуем в целые числа\n",
        "    numbers = [int(num) for num in input_string.split(\",\")]\n",
        "\n",
        "    result = 1\n",
        "    for number in numbers:\n",
        "        result *= number\n",
        "\n",
        "    return result\n",
        "\n",
        "assert multiply_nums(\"2, 3\") == 6\n",
        "assert multiply_nums(\"1, 1, 1, 1, 1, 1, 1\") == 1\n",
        "assert multiply_nums(\"345, 4576, 794, 325, 0\") == 0"
      ],
      "metadata": {
        "id": "viYgeRUG9XFF"
      },
      "execution_count": null,
      "outputs": []
    },
    {
      "cell_type": "code",
      "source": [
        "import math\n",
        "\n",
        "def custom_function(x):\n",
        "    \"\"\"\n",
        "    Реализуйте функцию, описанную выше.\n",
        "    \"\"\"\n",
        "    return math.sin(x) * math.cos(x)\n",
        "\n",
        "\n",
        "assert round(custom_function(1), 3) == 0.455\n",
        "assert round(custom_function(1.5), 3) == 0.071\n",
        "assert round(custom_function(2), 3) == -0.378\n",
        "assert custom_function(0) == 0\n"
      ],
      "metadata": {
        "id": "EAJVZCzKHqH2"
      },
      "execution_count": null,
      "outputs": []
    },
    {
      "cell_type": "code",
      "source": [
        "import math\n",
        "import numpy as np\n",
        "\n",
        "def custom_function_1(x, n):\n",
        "    \"\"\"\n",
        "    Реализуйте функцию, описанную выше.\n",
        "    \"\"\"\n",
        "    result = 1\n",
        "    for i in range(1, n + 1):\n",
        "        result *= ((i + 2)**x + math.log(x)) / (x**2 + 4 * i)\n",
        "    print(result)\n",
        "    return result\n",
        "\n",
        "\n",
        "assert round(custom_function_1(2, 3), 3) == 2.707\n",
        "assert round(custom_function_1(3, 2), 3) == 8.277\n",
        "assert round(custom_function_1(3, 3), 3) == 49.7\n"
      ],
      "metadata": {
        "id": "kju1h6h5HrnP",
        "colab": {
          "base_uri": "https://localhost:8080/"
        },
        "outputId": "97304c05-8ec4-4ab4-e914-d0a0271a880f"
      },
      "execution_count": null,
      "outputs": [
        {
          "output_type": "stream",
          "name": "stdout",
          "text": [
            "2.7066314174469377\n",
            "8.27683559832403\n",
            "49.699880147148015\n"
          ]
        }
      ]
    },
    {
      "cell_type": "markdown",
      "source": [
        "# 2.2 Задачки на написание функций"
      ],
      "metadata": {
        "id": "77wmIijyFCYL"
      }
    },
    {
      "cell_type": "code",
      "source": [
        "def time_converter(p):\n",
        "    # Ваша задача здесь написать функцию time_converter (именно такое название)\n",
        "# она должна возвращать значения в виде строки 'hours minutes'\n",
        "    hours = (p // 60) % 24\n",
        "    minutes = p % 60\n",
        "    return f\"{hours} {minutes}\"\n",
        "\n",
        "\n",
        "assert time_converter(2782) == '22 22'\n",
        "assert time_converter(60) == '1 0'\n",
        "assert time_converter(1766) == '5 26'\n",
        "assert time_converter(29) == '0 29'\n",
        "assert time_converter(4628) == '5 8'\n",
        "assert time_converter(4682) == '6 2'\n",
        "assert time_converter(28) == '0 28'\n",
        "assert time_converter(239) == '3 59'\n",
        "assert time_converter(1321) == '22 1'\n",
        "assert time_converter(1531) == '1 31'\n"
      ],
      "metadata": {
        "id": "guS9k8tQH3OY"
      },
      "execution_count": null,
      "outputs": []
    },
    {
      "cell_type": "code",
      "source": [
        "def min_of_three_values(a, b, c):\n",
        "# Написать функцию min_of_three_values, принимает на вход 3 аргумента\n",
        "    if a <= b and a <= c:\n",
        "        return a\n",
        "    elif b <= a and b <= c:\n",
        "        return b\n",
        "    else:\n",
        "        return c\n",
        "\n",
        "\n",
        "assert min_of_three_values(1, 2, 3) == 1\n",
        "assert min_of_three_values(3, 2, 1) == 1\n",
        "assert min_of_three_values(18, 18, 18) == 18\n",
        "assert min_of_three_values(7, 17, 14) == 7\n",
        "assert min_of_three_values(17, 14, 17) == 14\n",
        "assert min_of_three_values(14, 17, 7) == 7\n",
        "assert min_of_three_values(0, 3, 2) == 0\n",
        "assert min_of_three_values(8, 8, 3) == 3\n",
        "assert min_of_three_values(4, 1, 8) == 1\n"
      ],
      "metadata": {
        "id": "u_SvJnodHuJR"
      },
      "execution_count": null,
      "outputs": []
    },
    {
      "cell_type": "code",
      "source": [
        "def remove_symbol(s, symbol):\n",
        "# Функция remove_symbol принимает два аргумента -- строку и символ, которые необходимо удалить\n",
        "    return s.replace(symbol, '')\n",
        "\n",
        "\n",
        "assert remove_symbol('aaaaaaa', 'a') == ''\n",
        "assert remove_symbol('abababa', 'b') == 'aaaa'\n",
        "assert remove_symbol('12341234', '3') == '124124'\n"
      ],
      "metadata": {
        "id": "g9HcTqB0H512"
      },
      "execution_count": null,
      "outputs": []
    },
    {
      "cell_type": "code",
      "source": [
        "def remove_each_third_sym(s):\n",
        "    # Функция remove_each_third_sym принимает один агрумент -- строку.\n",
        "    # важно -- мы считаем человеческие индексы (начиная с 1, а не 0)\n",
        "    # важно -- оставляем первый аргумент\n",
        "    # Необходимо вернуть новую строку\n",
        "    result = ''\n",
        "    for i in range(len(s)):\n",
        "        if (i + 1) % 3 != 0:\n",
        "            result += s[i]\n",
        "    return result\n",
        "\n",
        "assert remove_each_third_sym('abcdef') == 'abde'\n",
        "assert remove_each_third_sym('sdfasdfasdfsfa') == 'sdasfadffa'\n",
        "assert remove_each_third_sym('123456789') == '124578'\n",
        "assert remove_each_third_sym('987654321') == '986532'\n",
        "\n"
      ],
      "metadata": {
        "id": "bAf98hwoIs--"
      },
      "execution_count": null,
      "outputs": []
    },
    {
      "cell_type": "code",
      "source": [
        "def find_max(lst):\n",
        "    # Функция find_max принимает на вход лист\n",
        "    # на выходе два числа -- непосредственно максимальное значение и его индекс\n",
        "    max_value = lst[0]\n",
        "    max_index = 0\n",
        "    for i in range(1, len(lst)):\n",
        "        if lst[i] > max_value:\n",
        "            max_value = lst[i]\n",
        "            max_index = i\n",
        "    return max_value, max_index\n",
        "\n",
        "\n",
        "assert find_max([1, 2, 3, 4, 5]) == (5, 4)\n",
        "assert find_max([15, 25, 3, 4, 5]) == (25, 1)\n",
        "assert find_max([96, 12, 43, 33, 89, 79]) == (96, 0)\n",
        "assert find_max([12, 77, 33, 27]) == (77, 1)\n",
        "assert find_max([33, 12, 89, 67]) == (89, 2)\n",
        "assert find_max([85, 55, 63, 27]) == (85, 0)\n",
        "assert find_max([33, 55, 76]) == (76, 2)\n",
        "assert find_max([93, 4]) == (93, 0)\n",
        "assert find_max([15, 25, 22]) == (25, 1)\n",
        "assert find_max([75, 18, 89, 99, 79]) == (99, 3)\n"
      ],
      "metadata": {
        "id": "topGbutTIuIN"
      },
      "execution_count": null,
      "outputs": []
    },
    {
      "cell_type": "code",
      "source": [
        "def append_to_list(lst, value):\n",
        "    # функция append_to_list принимает два значения -- лист и значение, которое необходимо вставить в конец листа\n",
        "    # функция возвращает обновленный лист\n",
        "    lst.append(value)\n",
        "    return lst\n",
        "\n",
        "\n",
        "assert append_to_list([1, 2], 3) == [1, 2, 3]\n",
        "assert append_to_list([1, 2], None) == [1, 2, None]\n",
        "assert append_to_list([1], True) == [1, True]\n"
      ],
      "metadata": {
        "id": "YNodFyZ3IvO2"
      },
      "execution_count": null,
      "outputs": []
    },
    {
      "cell_type": "code",
      "source": [
        "def number_unique_elements(lst):\n",
        "    # функция number_unique_elements принимает на вход лист\n",
        "    # на выходе одно число -- количество уникальных элементов\n",
        "    return len(set(lst))\n",
        "\n",
        "\n",
        "assert number_unique_elements([1, 2, 3, 2]) == 3\n",
        "assert number_unique_elements([1, 1, 1]) == 1\n",
        "assert number_unique_elements([1, 2, 3]) == 3\n",
        "assert number_unique_elements([11, 11, 11]) == 1\n",
        "assert number_unique_elements([1, 1, 2]) == 2\n"
      ],
      "metadata": {
        "id": "elP2KFAhIwQm"
      },
      "execution_count": null,
      "outputs": []
    },
    {
      "cell_type": "markdown",
      "source": [
        "# 3. Классы"
      ],
      "metadata": {
        "id": "hQOEgI-EFFu3"
      }
    },
    {
      "cell_type": "code",
      "source": [
        "class Vehicle:\n",
        "    def __init__(self, max_speed, mileage):\n",
        "        self.max_speed = max_speed\n",
        "        self.mileage = mileage\n",
        "\n",
        "veh1 = Vehicle(100, 50)\n",
        "assert (veh1.max_speed, veh1.mileage) == (100, 50)\n",
        "\n",
        "veh2 = Vehicle(200, 3)\n",
        "assert (veh2.max_speed, veh2.mileage) == (200, 3)\n"
      ],
      "metadata": {
        "id": "T9_qQZgaJj3o"
      },
      "execution_count": null,
      "outputs": []
    },
    {
      "cell_type": "code",
      "source": [
        "class Vehicle:\n",
        "    def __init__(self, max_speed, mileage):\n",
        "        self.max_speed = max_speed\n",
        "        self.mileage = mileage\n",
        "\n",
        "class Truck(Vehicle):\n",
        "    pass\n",
        "\n",
        "truck1 = Truck(50, 1000)\n",
        "assert (truck1.max_speed, truck1.mileage) == (50, 1000)\n",
        "\n",
        "truck2 = Truck(43, 235)\n",
        "assert (truck2.max_speed, truck2.mileage) == (43, 235)"
      ],
      "metadata": {
        "id": "anCa_fvmJlsz"
      },
      "execution_count": null,
      "outputs": []
    },
    {
      "cell_type": "code",
      "source": [
        "class MyList:\n",
        "    def __init__(self, initial_list):\n",
        "        self.items = initial_list\n",
        "\n",
        "    def return_sum(self):\n",
        "        \"\"\"\n",
        "        Возвращает сумму всех элементов сохраненного листа.\n",
        "        Пользоваться sum нельзя!\n",
        "        \"\"\"\n",
        "        total = 0\n",
        "        for item in self.items:\n",
        "            total += item  # Каждый по отдельности\n",
        "        return total\n",
        "\n",
        "    def make_reverse(self):\n",
        "        \"\"\"\n",
        "        Разворачивает сохраненный лист.\n",
        "        \"\"\"\n",
        "        reversed_list = []\n",
        "        for item in self.items:\n",
        "            reversed_list.insert(0, item)  # В начало просто вставляем\n",
        "        return reversed_list\n",
        "\n",
        "    def make_slice(self, start, stop):\n",
        "        \"\"\"\n",
        "        Делает слайсинг сохраненного листа.\n",
        "        \"\"\"\n",
        "        sliced_list = []\n",
        "        for i in range(start, min(stop, len(self.items))):\n",
        "            sliced_list.append(self.items[i])\n",
        "        return sliced_list\n",
        "\n",
        "a = MyList([1, 2, 3, 4])\n",
        "assert a.return_sum() == 10\n",
        "assert a.make_reverse() == [4, 3, 2, 1]\n",
        "assert a.make_slice(0, 2) == [1, 2]\n",
        "\n",
        "b = MyList([5, 6, 6, 5])\n",
        "assert b.return_sum() == 22\n",
        "assert b.make_reverse() == [5, 6, 6, 5]\n",
        "assert b.make_slice(1, 2) == [6]"
      ],
      "metadata": {
        "id": "ulIpyCOSJnv4"
      },
      "execution_count": null,
      "outputs": []
    }
  ]
}